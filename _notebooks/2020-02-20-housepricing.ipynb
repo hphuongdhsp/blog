{
 "cells": [
  {
   "cell_type": "markdown",
   "metadata": {},
   "source": [
    "# Tutorial: Xây dựng mô hình học máy sử dụng dữ liệu bảng biểu \n",
    "> Tutorial of fastpages for Jupyter notebooks.\n",
    "\n",
    "- toc: false \n",
    "- badges: false\n",
    "- comments: false\n",
    "- categories: [jupyter]\n",
    "- image: images/chart-preview.png"
   ]
  },
  {
   "cell_type": "markdown",
   "metadata": {},
   "source": [
    "## Instructors\n",
    "* Nguyễn Hoàng Phương\n",
    "\n",
    "Bài viết được dựa theo bài giảng của tác giả cho học viên ở trường hè MaSSP"
   ]
  }
 ],
 "metadata": {
  "language_info": {
   "name": "python"
  },
  "orig_nbformat": 4
 },
 "nbformat": 4,
 "nbformat_minor": 2
}
